{
 "cells": [
  {
   "cell_type": "markdown",
   "metadata": {},
   "source": [
    "Import Libraries"
   ]
  },
  {
   "cell_type": "code",
   "execution_count": 105,
   "metadata": {},
   "outputs": [
    {
     "name": "stdout",
     "output_type": "stream",
     "text": [
      "All libraries imported successfully!\n"
     ]
    }
   ],
   "source": [
    "try:\n",
    "    import joblib\n",
    "    import matplotlib.pyplot as plt\n",
    "    %matplotlib inline\n",
    "    import numpy as np\n",
    "    import pandas as pd\n",
    "    import seaborn as sns\n",
    "    from scipy import stats\n",
    "    from sklearn.cluster import KMeans\n",
    "    from sklearn.decomposition import PCA\n",
    "    from sklearn.datasets import make_regression, make_swiss_roll\n",
    "    from sklearn.ensemble import AdaBoostClassifier, ExtraTreesClassifier, GradientBoostingClassifier, RandomForestClassifier\n",
    "    from sklearn.linear_model import LinearRegression, LogisticRegression\n",
    "    from sklearn.metrics import accuracy_score, classification_report, confusion_matrix\n",
    "    from sklearn.model_selection import train_test_split\n",
    "    from sklearn.neighbors import KNeighborsClassifier, KNeighborsRegressor\n",
    "    from sklearn.preprocessing import MinMaxScaler, StandardScaler\n",
    "    from sklearn.svm import SVC, SVR\n",
    "    from sklearn.tree import DecisionTreeClassifier\n",
    "\n",
    "    print('All libraries imported successfully!')\n",
    "except ImportError:\n",
    "    print('Some libraries failed to import.')"
   ]
  },
  {
   "cell_type": "markdown",
   "metadata": {},
   "source": [
    "Load the Data"
   ]
  },
  {
   "cell_type": "code",
   "execution_count": 106,
   "metadata": {},
   "outputs": [
    {
     "name": "stdout",
     "output_type": "stream",
     "text": [
      "tedsd_puf_2019.csv loaded\n"
     ]
    },
    {
     "data": {
      "text/html": [
       "<div>\n",
       "<style scoped>\n",
       "    .dataframe tbody tr th:only-of-type {\n",
       "        vertical-align: middle;\n",
       "    }\n",
       "\n",
       "    .dataframe tbody tr th {\n",
       "        vertical-align: top;\n",
       "    }\n",
       "\n",
       "    .dataframe thead th {\n",
       "        text-align: right;\n",
       "    }\n",
       "</style>\n",
       "<table border=\"1\" class=\"dataframe\">\n",
       "  <thead>\n",
       "    <tr style=\"text-align: right;\">\n",
       "      <th></th>\n",
       "      <th>DISYR</th>\n",
       "      <th>CASEID</th>\n",
       "      <th>STFIPS</th>\n",
       "      <th>CBSA2010</th>\n",
       "      <th>EDUC</th>\n",
       "      <th>MARSTAT</th>\n",
       "      <th>SERVICES</th>\n",
       "      <th>DETCRIM</th>\n",
       "      <th>LOS</th>\n",
       "      <th>PSOURCE</th>\n",
       "      <th>...</th>\n",
       "      <th>TRNQFLG</th>\n",
       "      <th>BARBFLG</th>\n",
       "      <th>SEDHPFLG</th>\n",
       "      <th>INHFLG</th>\n",
       "      <th>OTCFLG</th>\n",
       "      <th>OTHERFLG</th>\n",
       "      <th>DIVISION</th>\n",
       "      <th>REGION</th>\n",
       "      <th>IDU</th>\n",
       "      <th>ALCDRUG</th>\n",
       "    </tr>\n",
       "  </thead>\n",
       "  <tbody>\n",
       "    <tr>\n",
       "      <th>0</th>\n",
       "      <td>2019</td>\n",
       "      <td>20191553576</td>\n",
       "      <td>2</td>\n",
       "      <td>-9</td>\n",
       "      <td>4</td>\n",
       "      <td>1</td>\n",
       "      <td>7</td>\n",
       "      <td>-9</td>\n",
       "      <td>37</td>\n",
       "      <td>1</td>\n",
       "      <td>...</td>\n",
       "      <td>0</td>\n",
       "      <td>0</td>\n",
       "      <td>0</td>\n",
       "      <td>0</td>\n",
       "      <td>0</td>\n",
       "      <td>0</td>\n",
       "      <td>9</td>\n",
       "      <td>4</td>\n",
       "      <td>0</td>\n",
       "      <td>1</td>\n",
       "    </tr>\n",
       "    <tr>\n",
       "      <th>1</th>\n",
       "      <td>2019</td>\n",
       "      <td>20191465214</td>\n",
       "      <td>2</td>\n",
       "      <td>-9</td>\n",
       "      <td>3</td>\n",
       "      <td>1</td>\n",
       "      <td>7</td>\n",
       "      <td>-9</td>\n",
       "      <td>35</td>\n",
       "      <td>1</td>\n",
       "      <td>...</td>\n",
       "      <td>0</td>\n",
       "      <td>0</td>\n",
       "      <td>0</td>\n",
       "      <td>0</td>\n",
       "      <td>0</td>\n",
       "      <td>0</td>\n",
       "      <td>9</td>\n",
       "      <td>4</td>\n",
       "      <td>0</td>\n",
       "      <td>3</td>\n",
       "    </tr>\n",
       "    <tr>\n",
       "      <th>2</th>\n",
       "      <td>2019</td>\n",
       "      <td>20191443889</td>\n",
       "      <td>2</td>\n",
       "      <td>-9</td>\n",
       "      <td>2</td>\n",
       "      <td>1</td>\n",
       "      <td>7</td>\n",
       "      <td>-9</td>\n",
       "      <td>35</td>\n",
       "      <td>1</td>\n",
       "      <td>...</td>\n",
       "      <td>0</td>\n",
       "      <td>0</td>\n",
       "      <td>0</td>\n",
       "      <td>0</td>\n",
       "      <td>0</td>\n",
       "      <td>0</td>\n",
       "      <td>9</td>\n",
       "      <td>4</td>\n",
       "      <td>0</td>\n",
       "      <td>3</td>\n",
       "    </tr>\n",
       "    <tr>\n",
       "      <th>3</th>\n",
       "      <td>2019</td>\n",
       "      <td>20191409377</td>\n",
       "      <td>2</td>\n",
       "      <td>-9</td>\n",
       "      <td>3</td>\n",
       "      <td>1</td>\n",
       "      <td>7</td>\n",
       "      <td>-9</td>\n",
       "      <td>37</td>\n",
       "      <td>1</td>\n",
       "      <td>...</td>\n",
       "      <td>0</td>\n",
       "      <td>0</td>\n",
       "      <td>0</td>\n",
       "      <td>0</td>\n",
       "      <td>0</td>\n",
       "      <td>0</td>\n",
       "      <td>9</td>\n",
       "      <td>4</td>\n",
       "      <td>0</td>\n",
       "      <td>3</td>\n",
       "    </tr>\n",
       "    <tr>\n",
       "      <th>4</th>\n",
       "      <td>2019</td>\n",
       "      <td>20191479567</td>\n",
       "      <td>2</td>\n",
       "      <td>-9</td>\n",
       "      <td>3</td>\n",
       "      <td>3</td>\n",
       "      <td>7</td>\n",
       "      <td>-9</td>\n",
       "      <td>37</td>\n",
       "      <td>1</td>\n",
       "      <td>...</td>\n",
       "      <td>0</td>\n",
       "      <td>0</td>\n",
       "      <td>0</td>\n",
       "      <td>0</td>\n",
       "      <td>0</td>\n",
       "      <td>0</td>\n",
       "      <td>9</td>\n",
       "      <td>4</td>\n",
       "      <td>0</td>\n",
       "      <td>1</td>\n",
       "    </tr>\n",
       "  </tbody>\n",
       "</table>\n",
       "<p>5 rows × 76 columns</p>\n",
       "</div>"
      ],
      "text/plain": [
       "   DISYR       CASEID  STFIPS  CBSA2010  EDUC  MARSTAT  SERVICES  DETCRIM  \\\n",
       "0   2019  20191553576       2        -9     4        1         7       -9   \n",
       "1   2019  20191465214       2        -9     3        1         7       -9   \n",
       "2   2019  20191443889       2        -9     2        1         7       -9   \n",
       "3   2019  20191409377       2        -9     3        1         7       -9   \n",
       "4   2019  20191479567       2        -9     3        3         7       -9   \n",
       "\n",
       "   LOS  PSOURCE  ...  TRNQFLG  BARBFLG  SEDHPFLG  INHFLG  OTCFLG  OTHERFLG  \\\n",
       "0   37        1  ...        0        0         0       0       0         0   \n",
       "1   35        1  ...        0        0         0       0       0         0   \n",
       "2   35        1  ...        0        0         0       0       0         0   \n",
       "3   37        1  ...        0        0         0       0       0         0   \n",
       "4   37        1  ...        0        0         0       0       0         0   \n",
       "\n",
       "   DIVISION  REGION  IDU  ALCDRUG  \n",
       "0         9       4    0        1  \n",
       "1         9       4    0        3  \n",
       "2         9       4    0        3  \n",
       "3         9       4    0        3  \n",
       "4         9       4    0        1  \n",
       "\n",
       "[5 rows x 76 columns]"
      ]
     },
     "execution_count": 106,
     "metadata": {},
     "output_type": "execute_result"
    }
   ],
   "source": [
    "# Load data from a CSV file\n",
    "df = pd.read_csv('tedsd_puf_2019.csv')\n",
    "print('tedsd_puf_2019.csv loaded')\n",
    "df.head()"
   ]
  },
  {
   "cell_type": "markdown",
   "metadata": {},
   "source": [
    "#### Data Exploration"
   ]
  },
  {
   "cell_type": "code",
   "execution_count": 107,
   "metadata": {},
   "outputs": [
    {
     "data": {
      "text/plain": [
       "(1722503, 76)"
      ]
     },
     "metadata": {},
     "output_type": "display_data"
    },
    {
     "data": {
      "text/html": [
       "<div>\n",
       "<style scoped>\n",
       "    .dataframe tbody tr th:only-of-type {\n",
       "        vertical-align: middle;\n",
       "    }\n",
       "\n",
       "    .dataframe tbody tr th {\n",
       "        vertical-align: top;\n",
       "    }\n",
       "\n",
       "    .dataframe thead th {\n",
       "        text-align: right;\n",
       "    }\n",
       "</style>\n",
       "<table border=\"1\" class=\"dataframe\">\n",
       "  <thead>\n",
       "    <tr style=\"text-align: right;\">\n",
       "      <th></th>\n",
       "      <th>DISYR</th>\n",
       "      <th>CASEID</th>\n",
       "      <th>STFIPS</th>\n",
       "      <th>CBSA2010</th>\n",
       "      <th>EDUC</th>\n",
       "      <th>MARSTAT</th>\n",
       "      <th>SERVICES</th>\n",
       "      <th>DETCRIM</th>\n",
       "      <th>LOS</th>\n",
       "      <th>PSOURCE</th>\n",
       "      <th>...</th>\n",
       "      <th>TRNQFLG</th>\n",
       "      <th>BARBFLG</th>\n",
       "      <th>SEDHPFLG</th>\n",
       "      <th>INHFLG</th>\n",
       "      <th>OTCFLG</th>\n",
       "      <th>OTHERFLG</th>\n",
       "      <th>DIVISION</th>\n",
       "      <th>REGION</th>\n",
       "      <th>IDU</th>\n",
       "      <th>ALCDRUG</th>\n",
       "    </tr>\n",
       "  </thead>\n",
       "  <tbody>\n",
       "    <tr>\n",
       "      <th>count</th>\n",
       "      <td>1722503.0</td>\n",
       "      <td>1.722503e+06</td>\n",
       "      <td>1.722503e+06</td>\n",
       "      <td>1.722503e+06</td>\n",
       "      <td>1.722503e+06</td>\n",
       "      <td>1.722503e+06</td>\n",
       "      <td>1.722503e+06</td>\n",
       "      <td>1.722503e+06</td>\n",
       "      <td>1.722503e+06</td>\n",
       "      <td>1.722503e+06</td>\n",
       "      <td>...</td>\n",
       "      <td>1.722503e+06</td>\n",
       "      <td>1.722503e+06</td>\n",
       "      <td>1.722503e+06</td>\n",
       "      <td>1.722503e+06</td>\n",
       "      <td>1.722503e+06</td>\n",
       "      <td>1.722503e+06</td>\n",
       "      <td>1.722503e+06</td>\n",
       "      <td>1.722503e+06</td>\n",
       "      <td>1.722503e+06</td>\n",
       "      <td>1.722503e+06</td>\n",
       "    </tr>\n",
       "    <tr>\n",
       "      <th>mean</th>\n",
       "      <td>2019.0</td>\n",
       "      <td>2.019087e+10</td>\n",
       "      <td>2.558714e+01</td>\n",
       "      <td>1.817492e+04</td>\n",
       "      <td>1.777766e+00</td>\n",
       "      <td>-5.340136e-01</td>\n",
       "      <td>5.540790e+00</td>\n",
       "      <td>-6.617934e+00</td>\n",
       "      <td>2.018519e+01</td>\n",
       "      <td>2.483211e+00</td>\n",
       "      <td>...</td>\n",
       "      <td>3.146584e-04</td>\n",
       "      <td>1.067052e-03</td>\n",
       "      <td>4.600863e-03</td>\n",
       "      <td>1.085629e-03</td>\n",
       "      <td>1.239475e-03</td>\n",
       "      <td>3.434421e-02</td>\n",
       "      <td>4.596869e+00</td>\n",
       "      <td>2.420380e+00</td>\n",
       "      <td>-4.622192e-01</td>\n",
       "      <td>1.945627e+00</td>\n",
       "    </tr>\n",
       "    <tr>\n",
       "      <th>std</th>\n",
       "      <td>0.0</td>\n",
       "      <td>5.065654e+05</td>\n",
       "      <td>1.427222e+01</td>\n",
       "      <td>1.728295e+04</td>\n",
       "      <td>3.731331e+00</td>\n",
       "      <td>4.470499e+00</td>\n",
       "      <td>1.938862e+00</td>\n",
       "      <td>5.031978e+00</td>\n",
       "      <td>1.433813e+01</td>\n",
       "      <td>4.037795e+00</td>\n",
       "      <td>...</td>\n",
       "      <td>1.773583e-02</td>\n",
       "      <td>3.264834e-02</td>\n",
       "      <td>6.767346e-02</td>\n",
       "      <td>3.293101e-02</td>\n",
       "      <td>3.518437e-02</td>\n",
       "      <td>1.821118e-01</td>\n",
       "      <td>2.560715e+00</td>\n",
       "      <td>1.144867e+00</td>\n",
       "      <td>2.492082e+00</td>\n",
       "      <td>8.534534e-01</td>\n",
       "    </tr>\n",
       "    <tr>\n",
       "      <th>min</th>\n",
       "      <td>2019.0</td>\n",
       "      <td>2.019000e+10</td>\n",
       "      <td>1.000000e+00</td>\n",
       "      <td>-9.000000e+00</td>\n",
       "      <td>-9.000000e+00</td>\n",
       "      <td>-9.000000e+00</td>\n",
       "      <td>1.000000e+00</td>\n",
       "      <td>-9.000000e+00</td>\n",
       "      <td>1.000000e+00</td>\n",
       "      <td>-9.000000e+00</td>\n",
       "      <td>...</td>\n",
       "      <td>0.000000e+00</td>\n",
       "      <td>0.000000e+00</td>\n",
       "      <td>0.000000e+00</td>\n",
       "      <td>0.000000e+00</td>\n",
       "      <td>0.000000e+00</td>\n",
       "      <td>0.000000e+00</td>\n",
       "      <td>0.000000e+00</td>\n",
       "      <td>0.000000e+00</td>\n",
       "      <td>-9.000000e+00</td>\n",
       "      <td>0.000000e+00</td>\n",
       "    </tr>\n",
       "    <tr>\n",
       "      <th>25%</th>\n",
       "      <td>2019.0</td>\n",
       "      <td>2.019044e+10</td>\n",
       "      <td>1.200000e+01</td>\n",
       "      <td>-9.000000e+00</td>\n",
       "      <td>2.000000e+00</td>\n",
       "      <td>1.000000e+00</td>\n",
       "      <td>4.000000e+00</td>\n",
       "      <td>-9.000000e+00</td>\n",
       "      <td>4.000000e+00</td>\n",
       "      <td>1.000000e+00</td>\n",
       "      <td>...</td>\n",
       "      <td>0.000000e+00</td>\n",
       "      <td>0.000000e+00</td>\n",
       "      <td>0.000000e+00</td>\n",
       "      <td>0.000000e+00</td>\n",
       "      <td>0.000000e+00</td>\n",
       "      <td>0.000000e+00</td>\n",
       "      <td>2.000000e+00</td>\n",
       "      <td>1.000000e+00</td>\n",
       "      <td>0.000000e+00</td>\n",
       "      <td>2.000000e+00</td>\n",
       "    </tr>\n",
       "    <tr>\n",
       "      <th>50%</th>\n",
       "      <td>2019.0</td>\n",
       "      <td>2.019087e+10</td>\n",
       "      <td>2.700000e+01</td>\n",
       "      <td>1.674000e+04</td>\n",
       "      <td>3.000000e+00</td>\n",
       "      <td>1.000000e+00</td>\n",
       "      <td>7.000000e+00</td>\n",
       "      <td>-9.000000e+00</td>\n",
       "      <td>2.600000e+01</td>\n",
       "      <td>2.000000e+00</td>\n",
       "      <td>...</td>\n",
       "      <td>0.000000e+00</td>\n",
       "      <td>0.000000e+00</td>\n",
       "      <td>0.000000e+00</td>\n",
       "      <td>0.000000e+00</td>\n",
       "      <td>0.000000e+00</td>\n",
       "      <td>0.000000e+00</td>\n",
       "      <td>5.000000e+00</td>\n",
       "      <td>3.000000e+00</td>\n",
       "      <td>0.000000e+00</td>\n",
       "      <td>2.000000e+00</td>\n",
       "    </tr>\n",
       "    <tr>\n",
       "      <th>75%</th>\n",
       "      <td>2019.0</td>\n",
       "      <td>2.019131e+10</td>\n",
       "      <td>3.600000e+01</td>\n",
       "      <td>3.562000e+04</td>\n",
       "      <td>3.000000e+00</td>\n",
       "      <td>2.000000e+00</td>\n",
       "      <td>7.000000e+00</td>\n",
       "      <td>-9.000000e+00</td>\n",
       "      <td>3.400000e+01</td>\n",
       "      <td>6.000000e+00</td>\n",
       "      <td>...</td>\n",
       "      <td>0.000000e+00</td>\n",
       "      <td>0.000000e+00</td>\n",
       "      <td>0.000000e+00</td>\n",
       "      <td>0.000000e+00</td>\n",
       "      <td>0.000000e+00</td>\n",
       "      <td>0.000000e+00</td>\n",
       "      <td>7.000000e+00</td>\n",
       "      <td>3.000000e+00</td>\n",
       "      <td>0.000000e+00</td>\n",
       "      <td>3.000000e+00</td>\n",
       "    </tr>\n",
       "    <tr>\n",
       "      <th>max</th>\n",
       "      <td>2019.0</td>\n",
       "      <td>2.019176e+10</td>\n",
       "      <td>7.200000e+01</td>\n",
       "      <td>4.970000e+04</td>\n",
       "      <td>5.000000e+00</td>\n",
       "      <td>4.000000e+00</td>\n",
       "      <td>8.000000e+00</td>\n",
       "      <td>8.000000e+00</td>\n",
       "      <td>3.700000e+01</td>\n",
       "      <td>7.000000e+00</td>\n",
       "      <td>...</td>\n",
       "      <td>1.000000e+00</td>\n",
       "      <td>1.000000e+00</td>\n",
       "      <td>1.000000e+00</td>\n",
       "      <td>1.000000e+00</td>\n",
       "      <td>1.000000e+00</td>\n",
       "      <td>1.000000e+00</td>\n",
       "      <td>9.000000e+00</td>\n",
       "      <td>4.000000e+00</td>\n",
       "      <td>1.000000e+00</td>\n",
       "      <td>3.000000e+00</td>\n",
       "    </tr>\n",
       "  </tbody>\n",
       "</table>\n",
       "<p>8 rows × 76 columns</p>\n",
       "</div>"
      ],
      "text/plain": [
       "           DISYR        CASEID        STFIPS      CBSA2010          EDUC  \\\n",
       "count  1722503.0  1.722503e+06  1.722503e+06  1.722503e+06  1.722503e+06   \n",
       "mean      2019.0  2.019087e+10  2.558714e+01  1.817492e+04  1.777766e+00   \n",
       "std          0.0  5.065654e+05  1.427222e+01  1.728295e+04  3.731331e+00   \n",
       "min       2019.0  2.019000e+10  1.000000e+00 -9.000000e+00 -9.000000e+00   \n",
       "25%       2019.0  2.019044e+10  1.200000e+01 -9.000000e+00  2.000000e+00   \n",
       "50%       2019.0  2.019087e+10  2.700000e+01  1.674000e+04  3.000000e+00   \n",
       "75%       2019.0  2.019131e+10  3.600000e+01  3.562000e+04  3.000000e+00   \n",
       "max       2019.0  2.019176e+10  7.200000e+01  4.970000e+04  5.000000e+00   \n",
       "\n",
       "            MARSTAT      SERVICES       DETCRIM           LOS       PSOURCE  \\\n",
       "count  1.722503e+06  1.722503e+06  1.722503e+06  1.722503e+06  1.722503e+06   \n",
       "mean  -5.340136e-01  5.540790e+00 -6.617934e+00  2.018519e+01  2.483211e+00   \n",
       "std    4.470499e+00  1.938862e+00  5.031978e+00  1.433813e+01  4.037795e+00   \n",
       "min   -9.000000e+00  1.000000e+00 -9.000000e+00  1.000000e+00 -9.000000e+00   \n",
       "25%    1.000000e+00  4.000000e+00 -9.000000e+00  4.000000e+00  1.000000e+00   \n",
       "50%    1.000000e+00  7.000000e+00 -9.000000e+00  2.600000e+01  2.000000e+00   \n",
       "75%    2.000000e+00  7.000000e+00 -9.000000e+00  3.400000e+01  6.000000e+00   \n",
       "max    4.000000e+00  8.000000e+00  8.000000e+00  3.700000e+01  7.000000e+00   \n",
       "\n",
       "       ...       TRNQFLG       BARBFLG      SEDHPFLG        INHFLG  \\\n",
       "count  ...  1.722503e+06  1.722503e+06  1.722503e+06  1.722503e+06   \n",
       "mean   ...  3.146584e-04  1.067052e-03  4.600863e-03  1.085629e-03   \n",
       "std    ...  1.773583e-02  3.264834e-02  6.767346e-02  3.293101e-02   \n",
       "min    ...  0.000000e+00  0.000000e+00  0.000000e+00  0.000000e+00   \n",
       "25%    ...  0.000000e+00  0.000000e+00  0.000000e+00  0.000000e+00   \n",
       "50%    ...  0.000000e+00  0.000000e+00  0.000000e+00  0.000000e+00   \n",
       "75%    ...  0.000000e+00  0.000000e+00  0.000000e+00  0.000000e+00   \n",
       "max    ...  1.000000e+00  1.000000e+00  1.000000e+00  1.000000e+00   \n",
       "\n",
       "             OTCFLG      OTHERFLG      DIVISION        REGION           IDU  \\\n",
       "count  1.722503e+06  1.722503e+06  1.722503e+06  1.722503e+06  1.722503e+06   \n",
       "mean   1.239475e-03  3.434421e-02  4.596869e+00  2.420380e+00 -4.622192e-01   \n",
       "std    3.518437e-02  1.821118e-01  2.560715e+00  1.144867e+00  2.492082e+00   \n",
       "min    0.000000e+00  0.000000e+00  0.000000e+00  0.000000e+00 -9.000000e+00   \n",
       "25%    0.000000e+00  0.000000e+00  2.000000e+00  1.000000e+00  0.000000e+00   \n",
       "50%    0.000000e+00  0.000000e+00  5.000000e+00  3.000000e+00  0.000000e+00   \n",
       "75%    0.000000e+00  0.000000e+00  7.000000e+00  3.000000e+00  0.000000e+00   \n",
       "max    1.000000e+00  1.000000e+00  9.000000e+00  4.000000e+00  1.000000e+00   \n",
       "\n",
       "            ALCDRUG  \n",
       "count  1.722503e+06  \n",
       "mean   1.945627e+00  \n",
       "std    8.534534e-01  \n",
       "min    0.000000e+00  \n",
       "25%    2.000000e+00  \n",
       "50%    2.000000e+00  \n",
       "75%    3.000000e+00  \n",
       "max    3.000000e+00  \n",
       "\n",
       "[8 rows x 76 columns]"
      ]
     },
     "metadata": {},
     "output_type": "display_data"
    },
    {
     "name": "stdout",
     "output_type": "stream",
     "text": [
      "<class 'pandas.core.frame.DataFrame'>\n",
      "RangeIndex: 1722503 entries, 0 to 1722502\n",
      "Data columns (total 76 columns):\n",
      " #   Column                 Dtype\n",
      "---  ------                 -----\n",
      " 0   DISYR                  int64\n",
      " 1   CASEID                 int64\n",
      " 2   STFIPS                 int64\n",
      " 3   CBSA2010               int64\n",
      " 4   EDUC                   int64\n",
      " 5   MARSTAT                int64\n",
      " 6   SERVICES               int64\n",
      " 7   DETCRIM                int64\n",
      " 8   LOS                    int64\n",
      " 9   PSOURCE                int64\n",
      " 10  NOPRIOR                int64\n",
      " 11  ARRESTS                int64\n",
      " 12  EMPLOY                 int64\n",
      " 13  METHUSE                int64\n",
      " 14  PSYPROB                int64\n",
      " 15  PREG                   int64\n",
      " 16  GENDER                 int64\n",
      " 17  VET                    int64\n",
      " 18  LIVARAG                int64\n",
      " 19  DAYWAIT                int64\n",
      " 20  SERVICES_D             int64\n",
      " 21  REASON                 int64\n",
      " 22  EMPLOY_D               int64\n",
      " 23  LIVARAG_D              int64\n",
      " 24  ARRESTS_D              int64\n",
      " 25  DSMCRIT                int64\n",
      " 26  AGE                    int64\n",
      " 27  RACE                   int64\n",
      " 28  ETHNIC                 int64\n",
      " 29  DETNLF                 int64\n",
      " 30  DETNLF_D               int64\n",
      " 31  PRIMINC                int64\n",
      " 32  SUB1                   int64\n",
      " 33  SUB2                   int64\n",
      " 34  SUB3                   int64\n",
      " 35  SUB1_D                 int64\n",
      " 36  SUB2_D                 int64\n",
      " 37  SUB3_D                 int64\n",
      " 38  ROUTE1                 int64\n",
      " 39  ROUTE2                 int64\n",
      " 40  ROUTE3                 int64\n",
      " 41  FREQ1                  int64\n",
      " 42  FREQ2                  int64\n",
      " 43  FREQ3                  int64\n",
      " 44  FREQ1_D                int64\n",
      " 45  FREQ2_D                int64\n",
      " 46  FREQ3_D                int64\n",
      " 47  FRSTUSE1               int64\n",
      " 48  FRSTUSE2               int64\n",
      " 49  FRSTUSE3               int64\n",
      " 50  HLTHINS                int64\n",
      " 51  PRIMPAY                int64\n",
      " 52  FREQ_ATND_SELF_HELP    int64\n",
      " 53  FREQ_ATND_SELF_HELP_D  int64\n",
      " 54  ALCFLG                 int64\n",
      " 55  COKEFLG                int64\n",
      " 56  MARFLG                 int64\n",
      " 57  HERFLG                 int64\n",
      " 58  METHFLG                int64\n",
      " 59  OPSYNFLG               int64\n",
      " 60  PCPFLG                 int64\n",
      " 61  HALLFLG                int64\n",
      " 62  MTHAMFLG               int64\n",
      " 63  AMPHFLG                int64\n",
      " 64  STIMFLG                int64\n",
      " 65  BENZFLG                int64\n",
      " 66  TRNQFLG                int64\n",
      " 67  BARBFLG                int64\n",
      " 68  SEDHPFLG               int64\n",
      " 69  INHFLG                 int64\n",
      " 70  OTCFLG                 int64\n",
      " 71  OTHERFLG               int64\n",
      " 72  DIVISION               int64\n",
      " 73  REGION                 int64\n",
      " 74  IDU                    int64\n",
      " 75  ALCDRUG                int64\n",
      "dtypes: int64(76)\n",
      "memory usage: 998.8 MB\n"
     ]
    },
    {
     "data": {
      "text/plain": [
       "None"
      ]
     },
     "metadata": {},
     "output_type": "display_data"
    }
   ],
   "source": [
    "# Summarize the data\n",
    "display(df.shape)\n",
    "display(df.describe())\n",
    "display(df.info())"
   ]
  },
  {
   "cell_type": "markdown",
   "metadata": {},
   "source": [
    "Data Cleaning"
   ]
  },
  {
   "cell_type": "code",
   "execution_count": 108,
   "metadata": {},
   "outputs": [
    {
     "name": "stdout",
     "output_type": "stream",
     "text": [
      "Copy of the DataFrame\n"
     ]
    },
    {
     "data": {
      "text/html": [
       "<div>\n",
       "<style scoped>\n",
       "    .dataframe tbody tr th:only-of-type {\n",
       "        vertical-align: middle;\n",
       "    }\n",
       "\n",
       "    .dataframe tbody tr th {\n",
       "        vertical-align: top;\n",
       "    }\n",
       "\n",
       "    .dataframe thead th {\n",
       "        text-align: right;\n",
       "    }\n",
       "</style>\n",
       "<table border=\"1\" class=\"dataframe\">\n",
       "  <thead>\n",
       "    <tr style=\"text-align: right;\">\n",
       "      <th></th>\n",
       "      <th>DISYR</th>\n",
       "      <th>CASEID</th>\n",
       "      <th>STFIPS</th>\n",
       "      <th>CBSA2010</th>\n",
       "      <th>EDUC</th>\n",
       "      <th>MARSTAT</th>\n",
       "      <th>SERVICES</th>\n",
       "      <th>DETCRIM</th>\n",
       "      <th>LOS</th>\n",
       "      <th>PSOURCE</th>\n",
       "      <th>...</th>\n",
       "      <th>TRNQFLG</th>\n",
       "      <th>BARBFLG</th>\n",
       "      <th>SEDHPFLG</th>\n",
       "      <th>INHFLG</th>\n",
       "      <th>OTCFLG</th>\n",
       "      <th>OTHERFLG</th>\n",
       "      <th>DIVISION</th>\n",
       "      <th>REGION</th>\n",
       "      <th>IDU</th>\n",
       "      <th>ALCDRUG</th>\n",
       "    </tr>\n",
       "  </thead>\n",
       "  <tbody>\n",
       "    <tr>\n",
       "      <th>0</th>\n",
       "      <td>2019</td>\n",
       "      <td>20191553576</td>\n",
       "      <td>2</td>\n",
       "      <td>-9</td>\n",
       "      <td>4</td>\n",
       "      <td>1</td>\n",
       "      <td>7</td>\n",
       "      <td>-9</td>\n",
       "      <td>37</td>\n",
       "      <td>1</td>\n",
       "      <td>...</td>\n",
       "      <td>0</td>\n",
       "      <td>0</td>\n",
       "      <td>0</td>\n",
       "      <td>0</td>\n",
       "      <td>0</td>\n",
       "      <td>0</td>\n",
       "      <td>9</td>\n",
       "      <td>4</td>\n",
       "      <td>0</td>\n",
       "      <td>1</td>\n",
       "    </tr>\n",
       "    <tr>\n",
       "      <th>1</th>\n",
       "      <td>2019</td>\n",
       "      <td>20191465214</td>\n",
       "      <td>2</td>\n",
       "      <td>-9</td>\n",
       "      <td>3</td>\n",
       "      <td>1</td>\n",
       "      <td>7</td>\n",
       "      <td>-9</td>\n",
       "      <td>35</td>\n",
       "      <td>1</td>\n",
       "      <td>...</td>\n",
       "      <td>0</td>\n",
       "      <td>0</td>\n",
       "      <td>0</td>\n",
       "      <td>0</td>\n",
       "      <td>0</td>\n",
       "      <td>0</td>\n",
       "      <td>9</td>\n",
       "      <td>4</td>\n",
       "      <td>0</td>\n",
       "      <td>3</td>\n",
       "    </tr>\n",
       "    <tr>\n",
       "      <th>2</th>\n",
       "      <td>2019</td>\n",
       "      <td>20191443889</td>\n",
       "      <td>2</td>\n",
       "      <td>-9</td>\n",
       "      <td>2</td>\n",
       "      <td>1</td>\n",
       "      <td>7</td>\n",
       "      <td>-9</td>\n",
       "      <td>35</td>\n",
       "      <td>1</td>\n",
       "      <td>...</td>\n",
       "      <td>0</td>\n",
       "      <td>0</td>\n",
       "      <td>0</td>\n",
       "      <td>0</td>\n",
       "      <td>0</td>\n",
       "      <td>0</td>\n",
       "      <td>9</td>\n",
       "      <td>4</td>\n",
       "      <td>0</td>\n",
       "      <td>3</td>\n",
       "    </tr>\n",
       "    <tr>\n",
       "      <th>3</th>\n",
       "      <td>2019</td>\n",
       "      <td>20191409377</td>\n",
       "      <td>2</td>\n",
       "      <td>-9</td>\n",
       "      <td>3</td>\n",
       "      <td>1</td>\n",
       "      <td>7</td>\n",
       "      <td>-9</td>\n",
       "      <td>37</td>\n",
       "      <td>1</td>\n",
       "      <td>...</td>\n",
       "      <td>0</td>\n",
       "      <td>0</td>\n",
       "      <td>0</td>\n",
       "      <td>0</td>\n",
       "      <td>0</td>\n",
       "      <td>0</td>\n",
       "      <td>9</td>\n",
       "      <td>4</td>\n",
       "      <td>0</td>\n",
       "      <td>3</td>\n",
       "    </tr>\n",
       "    <tr>\n",
       "      <th>4</th>\n",
       "      <td>2019</td>\n",
       "      <td>20191479567</td>\n",
       "      <td>2</td>\n",
       "      <td>-9</td>\n",
       "      <td>3</td>\n",
       "      <td>3</td>\n",
       "      <td>7</td>\n",
       "      <td>-9</td>\n",
       "      <td>37</td>\n",
       "      <td>1</td>\n",
       "      <td>...</td>\n",
       "      <td>0</td>\n",
       "      <td>0</td>\n",
       "      <td>0</td>\n",
       "      <td>0</td>\n",
       "      <td>0</td>\n",
       "      <td>0</td>\n",
       "      <td>9</td>\n",
       "      <td>4</td>\n",
       "      <td>0</td>\n",
       "      <td>1</td>\n",
       "    </tr>\n",
       "  </tbody>\n",
       "</table>\n",
       "<p>5 rows × 76 columns</p>\n",
       "</div>"
      ],
      "text/plain": [
       "   DISYR       CASEID  STFIPS  CBSA2010  EDUC  MARSTAT  SERVICES  DETCRIM  \\\n",
       "0   2019  20191553576       2        -9     4        1         7       -9   \n",
       "1   2019  20191465214       2        -9     3        1         7       -9   \n",
       "2   2019  20191443889       2        -9     2        1         7       -9   \n",
       "3   2019  20191409377       2        -9     3        1         7       -9   \n",
       "4   2019  20191479567       2        -9     3        3         7       -9   \n",
       "\n",
       "   LOS  PSOURCE  ...  TRNQFLG  BARBFLG  SEDHPFLG  INHFLG  OTCFLG  OTHERFLG  \\\n",
       "0   37        1  ...        0        0         0       0       0         0   \n",
       "1   35        1  ...        0        0         0       0       0         0   \n",
       "2   35        1  ...        0        0         0       0       0         0   \n",
       "3   37        1  ...        0        0         0       0       0         0   \n",
       "4   37        1  ...        0        0         0       0       0         0   \n",
       "\n",
       "   DIVISION  REGION  IDU  ALCDRUG  \n",
       "0         9       4    0        1  \n",
       "1         9       4    0        3  \n",
       "2         9       4    0        3  \n",
       "3         9       4    0        3  \n",
       "4         9       4    0        1  \n",
       "\n",
       "[5 rows x 76 columns]"
      ]
     },
     "metadata": {},
     "output_type": "display_data"
    }
   ],
   "source": [
    "# Create a copy of the data\n",
    "df1 = df.copy()\n",
    "print('Copy of the DataFrame')\n",
    "display(df1.head())"
   ]
  },
  {
   "cell_type": "code",
   "execution_count": 109,
   "metadata": {},
   "outputs": [
    {
     "data": {
      "text/plain": [
       "DISYR            0\n",
       "CASEID           0\n",
       "STFIPS           0\n",
       "CBSA2010    704011\n",
       "EDUC        174935\n",
       "             ...  \n",
       "OTHERFLG         0\n",
       "DIVISION         0\n",
       "REGION           0\n",
       "IDU         131797\n",
       "ALCDRUG          0\n",
       "Length: 76, dtype: int64"
      ]
     },
     "metadata": {},
     "output_type": "display_data"
    }
   ],
   "source": [
    "# In this dataset, -9 is used to represent missing values. Which columns have -9 as a value and how many?\n",
    "missing_values = df1.isin([-9]).sum()\n",
    "display(missing_values)"
   ]
  },
  {
   "cell_type": "code",
   "execution_count": 110,
   "metadata": {},
   "outputs": [
    {
     "data": {
      "text/plain": [
       "CBSA2010                  704011\n",
       "EDUC                      174935\n",
       "MARSTAT                   360937\n",
       "DETCRIM                  1397909\n",
       "PSOURCE                   120477\n",
       "NOPRIOR                   136613\n",
       "ARRESTS                   182116\n",
       "EMPLOY                    152365\n",
       "METHUSE                   178805\n",
       "PSYPROB                   225375\n",
       "PREG                     1136767\n",
       "GENDER                       756\n",
       "VET                       174003\n",
       "LIVARAG                   174307\n",
       "DAYWAIT                   920756\n",
       "EMPLOY_D                  322858\n",
       "LIVARAG_D                 354754\n",
       "ARRESTS_D                 340163\n",
       "DSMCRIT                   410311\n",
       "RACE                       58924\n",
       "ETHNIC                     60872\n",
       "DETNLF                   1251911\n",
       "DETNLF_D                 1332282\n",
       "PRIMINC                   680082\n",
       "SUB1                       99426\n",
       "SUB2                       62316\n",
       "SUB3                      185870\n",
       "SUB1_D                    217220\n",
       "SUB2_D                    123173\n",
       "SUB3_D                     82543\n",
       "ROUTE1                    142828\n",
       "ROUTE2                    817221\n",
       "ROUTE3                   1362519\n",
       "FREQ1                     196872\n",
       "FREQ2                     818003\n",
       "FREQ3                    1372001\n",
       "FREQ1_D                   537124\n",
       "FREQ2_D                  1183470\n",
       "FREQ3_D                  1441000\n",
       "FRSTUSE1                  150579\n",
       "FRSTUSE2                  844104\n",
       "FRSTUSE3                 1371909\n",
       "HLTHINS                   868565\n",
       "PRIMPAY                   989974\n",
       "FREQ_ATND_SELF_HELP       327054\n",
       "FREQ_ATND_SELF_HELP_D     376995\n",
       "IDU                       131797\n",
       "dtype: int64"
      ]
     },
     "metadata": {},
     "output_type": "display_data"
    }
   ],
   "source": [
    "# What specific columns have -9 as a value?\n",
    "missing_columns = missing_values[missing_values > 0]\n",
    "display(missing_columns)"
   ]
  },
  {
   "cell_type": "code",
   "execution_count": 111,
   "metadata": {},
   "outputs": [
    {
     "data": {
      "text/plain": [
       "47"
      ]
     },
     "metadata": {},
     "output_type": "display_data"
    }
   ],
   "source": [
    "# How many columns have -9 as a value?\n",
    "display(len(missing_columns))"
   ]
  },
  {
   "cell_type": "code",
   "execution_count": 112,
   "metadata": {},
   "outputs": [
    {
     "data": {
      "image/png": "[encoded data removed]",
      "text/plain": [
       "<Figure size 1500x700 with 1 Axes>"
      ]
     },
     "metadata": {},
     "output_type": "display_data"
    }
   ],
   "source": [
    "# Visualize all columns with -9 as a value\n",
    "missing_columns.plot(kind='bar', figsize=(15, 7))\n",
    "plt.title('Columns with -9 as a value')\n",
    "plt.xlabel('Columns')\n",
    "plt.ylabel('Frequency')\n",
    "plt.show()"
   ]
  },
  {
   "cell_type": "code",
   "execution_count": 113,
   "metadata": {},
   "outputs": [],
   "source": [
    "# Replace -9 with NaN\n",
    "# df1 = df1.replace(-9, np.nan)\n",
    "# print('Replacing -9 with NaN. A -9 represents a missing value code in the dataset.')\n",
    "# display(df1.head())"
   ]
  },
  {
   "cell_type": "code",
   "execution_count": 114,
   "metadata": {},
   "outputs": [],
   "source": [
    "# Find columns that contain NaN values\n",
    "# columns_with_nan = df1.isna().any()\n",
    "\n",
    "# # Count the number of columns that contain NaN values\n",
    "# num_columns_with_nan = columns_with_nan.sum()\n",
    "\n",
    "# # Print the number of columns that contain NaN values\n",
    "# print('There are',num_columns_with_nan,'columns that contain NaN.')"
   ]
  },
  {
   "cell_type": "code",
   "execution_count": 115,
   "metadata": {},
   "outputs": [],
   "source": [
    "# Find columns that contain NaN values\n",
    "# columns_with_nan = df1.columns[df1.isna().any()].tolist()\n",
    "\n",
    "# # Calculate the percentage of NaN values in each of these columns\n",
    "# nan_percentage = df1[columns_with_nan].isna().mean() * 100\n",
    "\n",
    "# # Sort the percentages in ascending order\n",
    "# nan_percentage_sorted = nan_percentage.sort_values(ascending=False)\n",
    "\n",
    "# # Print the percentage of NaN values\n",
    "# print('Percentage of NaN values in each column.')\n",
    "# display(nan_percentage_sorted)"
   ]
  },
  {
   "cell_type": "code",
   "execution_count": 116,
   "metadata": {},
   "outputs": [],
   "source": [
    "# Create a bar plot\n",
    "# plt.figure(figsize=(20,18))\n",
    "# sns.barplot(x=nan_percentage_sorted.values, y=nan_percentage_sorted.index)\n",
    "# plt.title('Percentage of NaN values in columns')\n",
    "# # Show the plot\n",
    "# print('Bar plot showing the percentage of NaN values in columns.')\n",
    "# plt.show()"
   ]
  },
  {
   "cell_type": "code",
   "execution_count": 117,
   "metadata": {},
   "outputs": [],
   "source": [
    "# reason = df1['REASON']\n",
    "# df1_corr = df1.corr()\n",
    "# df1_corr.unstack().sort_values()\n",
    "# variable = df1_corr['REASON'].sort_values()\n",
    "# print('Correlation of REASON with other variables.')\n",
    "# variable.tail()"
   ]
  },
  {
   "cell_type": "code",
   "execution_count": 118,
   "metadata": {},
   "outputs": [],
   "source": [
    "# Create a list of colors based on the values in 'variable'\n",
    "# colors = ['red' if x < 0 else 'blue' for x in variable[:-1]]\n",
    "\n",
    "# # Visualize correlation to the target variable 'REASON'\n",
    "# plt.figure(figsize=(20,18))\n",
    "# variable[:-1].plot(kind='bar', color=colors)\n",
    "# plt.title('Correlation to the target variable')\n",
    "# print('Visualizing the positive and negative correlations of REASON with other variables.')\n",
    "# plt.show()"
   ]
  },
  {
   "cell_type": "code",
   "execution_count": 119,
   "metadata": {},
   "outputs": [],
   "source": [
    "# Filter to include only positive correlations\n",
    "# positive_correlations = variable[variable > 0]\n",
    "\n",
    "# # Visualize positive correlations\n",
    "# plt.figure(figsize=(20,18))\n",
    "# positive_correlations[:-1].plot(kind='bar', color='blue')\n",
    "# plt.title('This is a visualization of only the positive correlations to the target variable')\n",
    "# print('Positive correlations of REASON with other variables.')\n",
    "# print(\"\\nSERVICES is the highest positive correlation and EMPLOY is the lowest positive correlation at the moment.\")\n",
    "# print(\"\\nMore exploration is needed to understand the relationship between the target variable and the features.\")\n",
    "# plt.show()"
   ]
  },
  {
   "cell_type": "code",
   "execution_count": 120,
   "metadata": {},
   "outputs": [],
   "source": [
    "# print('These are the columns with NaN values, with the highest percentage of NaN values at the top.')\n",
    "# print(\"\\nFor example, the column FREQ3_D has roughly 83.66 precent of its values as NaN.\")\n",
    "# print('\\nThis means that 83.66 percent of the values in the column FREQ3_D are missing or not reported.')\n",
    "# display(nan_percentage_sorted)\n",
    "# display(df1_corr)"
   ]
  },
  {
   "cell_type": "code",
   "execution_count": 121,
   "metadata": {},
   "outputs": [],
   "source": [
    "# Define the column names from the first set\n",
    "# first_set = [\n",
    "#     \"FREQ3_D\", \"DETCRIM\", \"FREQ3\", \"FRSTUSE3\", \"ROUTE3\", \"DETNLF_D\", \"DETNLF\",\n",
    "#     \"FREQ2_D\", \"PREG\", \"PRIMPAY\", \"DAYWAIT\", \"HLTHINS\", \"FRSTUSE2\", \"FREQ2\",\n",
    "#     \"ROUTE2\", \"CBSA2010\", \"PRIMINC\", \"FREQ1_D\", \"DSMCRIT\", \"FREQ_ATND_SELF_HELP_D\",\n",
    "#     \"MARSTAT\", \"LIVARAG_D\", \"ARRESTS_D\", \"FREQ_ATND_SELF_HELP\", \"EMPLOY_D\", \"PSYPROB\",\n",
    "#     \"SUB1_D\", \"FREQ1\", \"SUB3\", \"ARRESTS\", \"METHUSE\", \"EDUC\", \"LIVARAG\", \"VET\", \"EMPLOY\",\n",
    "#     \"FRSTUSE1\", \"ROUTE1\", \"NOPRIOR\", \"IDU\", \"SUB2_D\", \"PSOURCE\", \"SUB1\", \"SUB3_D\",\n",
    "#     \"SUB2\", \"ETHNIC\", \"RACE\", \"GENDER\"\n",
    "# ]\n",
    "\n",
    "# Define the column names from the second set\n",
    "# second_set = [\n",
    "#     \"DISYR\", \"CASEID\", \"STFIPS\", \"CBSA2010\", \"EDUC\", \"MARSTAT\", \"SERVICES\",\n",
    "#     \"DETCRIM\", \"LOS\", \"PSOURCE\", \"TRNQFLG\", \"BARBFLG\", \"SEDHPFLG\", \"INHFLG\",\n",
    "#     \"OTCFLG\", \"OTHERFLG\", \"DIVISION\", \"REGION\", \"IDU\", \"ALCDRUG\"\n",
    "# ]\n",
    "\n",
    "# Find the common column names\n",
    "# common_columns = list(set(first_set).intersection(second_set))\n",
    "\n",
    "# # Add quotations around each column name\n",
    "# first_set_quoted = [f'\"{col}\"' for col in first_set]\n",
    "# second_set_quoted = [f'\"{col}\"' for col in second_set]\n",
    "# common_columns_quoted = [f'\"{col}\"' for col in common_columns]\n",
    "\n",
    "# # Print the results\n",
    "# print(\"Looking for common columns in two sets of column names to see if they need be removed or filled.\")\n",
    "# print(\"\\nColumn Names from the First Set:(nan_percentage_sorted)\")\n",
    "# print(\", \".join(first_set_quoted))\n",
    "# print(\"\\nColumn Names from the Second Set:(df1_corr)\")\n",
    "# print(\", \".join(second_set_quoted))\n",
    "# print(\"\\nCommon Column Names: (To consider for removal/fill)\")\n",
    "# print(\", \".join(common_columns_quoted))\n",
    "\n",
    "# plt.figure(figsize=(20,18))\n",
    "# plt.barh(first_set, [1]*len(first_set), color='blue', label='First Set')\n",
    "# plt.barh(second_set, [1]*len(second_set), color='red', label='Second Set')\n",
    "# plt.barh(common_columns, [1]*len(common_columns), color='yellow', label='Common Columns')\n",
    "# plt.xlabel('Count')\n",
    "# plt.title('Column Names')\n",
    "# plt.legend()\n",
    "# plt.show()\n",
    "\n",
    "# Find the Nan percentages in the common columns\n",
    "# nan_percentages_common = df1[common_columns].isna().mean() * 100\n",
    "\n",
    "# Sort and display the result\n",
    "# nan_percentages_common_sorted = nan_percentages_common.sort_values(ascending=False)\n",
    "# display(nan_percentages_common_sorted)"
   ]
  },
  {
   "cell_type": "markdown",
   "metadata": {},
   "source": [
    "#### Data Cleaning"
   ]
  },
  {
   "cell_type": "code",
   "execution_count": 122,
   "metadata": {},
   "outputs": [
    {
     "name": "stdout",
     "output_type": "stream",
     "text": [
      "FRSTUSE1\n",
      "3    383118\n",
      "4    286597\n",
      "2    282460\n",
      "5    191686\n",
      "7    189684\n",
      "0    150579\n",
      "6    143891\n",
      "1     94488\n",
      "Name: count, dtype: int64\n"
     ]
    }
   ],
   "source": [
    "# In column FRSTUSE1 replace -9 with 0? Confirm with value counts.\n",
    "df1['FRSTUSE1'] = df1['FRSTUSE1'].replace(-9, 0)\n",
    "print(df1['FRSTUSE1'].value_counts())"
   ]
  },
  {
   "cell_type": "code",
   "execution_count": 123,
   "metadata": {},
   "outputs": [
    {
     "name": "stdout",
     "output_type": "stream",
     "text": [
      "FRSTUSE2\n",
      "0    844104\n",
      "3    222974\n",
      "2    170892\n",
      "4    153705\n",
      "7    103384\n",
      "5     95617\n",
      "6     78339\n",
      "1     53488\n",
      "Name: count, dtype: int64\n"
     ]
    }
   ],
   "source": [
    "# In column FRSTUSE2 replace -9 with 0? Confirm with value counts.\n",
    "df1['FRSTUSE2'] = df1['FRSTUSE2'].replace(-9, 0)\n",
    "print(df1['FRSTUSE2'].value_counts())"
   ]
  },
  {
   "cell_type": "code",
   "execution_count": 124,
   "metadata": {},
   "outputs": [
    {
     "name": "stdout",
     "output_type": "stream",
     "text": [
      "FRSTUSE3\n",
      "0    1371909\n",
      "3      92397\n",
      "2      78630\n",
      "4      57055\n",
      "7      37209\n",
      "5      32205\n",
      "6      27655\n",
      "1      25443\n",
      "Name: count, dtype: int64\n"
     ]
    }
   ],
   "source": [
    "# In column FRSTUSE3 replace -9 with 0? Confirm with value counts.\n",
    "df1['FRSTUSE3'] = df1['FRSTUSE3'].replace(-9, 0)\n",
    "print(df1['FRSTUSE3'].value_counts())"
   ]
  },
  {
   "cell_type": "code",
   "execution_count": 125,
   "metadata": {},
   "outputs": [
    {
     "name": "stdout",
     "output_type": "stream",
     "text": [
      "SUB2\n",
      "1     750100\n",
      "4     231573\n",
      "3     187237\n",
      "2     150904\n",
      "10    108974\n",
      "19     87499\n",
      "5      64161\n",
      "7      64062\n",
      "13     49362\n",
      "11      9428\n",
      "12      4256\n",
      "16      3651\n",
      "9       3202\n",
      "8       2851\n",
      "6       2808\n",
      "18       882\n",
      "17       667\n",
      "15       582\n",
      "14       304\n",
      "Name: count, dtype: int64\n"
     ]
    }
   ],
   "source": [
    "# In column SUB2 replace -9 with 19? Confirm with value counts.\n",
    "df1['SUB2'] = df1['SUB2'].replace(-9, 19)\n",
    "print(df1['SUB2'].value_counts())"
   ]
  },
  {
   "cell_type": "code",
   "execution_count": 126,
   "metadata": {},
   "outputs": [
    {
     "name": "stdout",
     "output_type": "stream",
     "text": [
      "SUB2_D\n",
      "1     813505\n",
      "4     210739\n",
      "3     156567\n",
      "19    147315\n",
      "2     129235\n",
      "10     89820\n",
      "7      56850\n",
      "5      54200\n",
      "13     39421\n",
      "11      8690\n",
      "12      3626\n",
      "16      3419\n",
      "9       2753\n",
      "6       2219\n",
      "8       2067\n",
      "18       719\n",
      "17       617\n",
      "15       496\n",
      "14       245\n",
      "Name: count, dtype: int64\n"
     ]
    }
   ],
   "source": [
    "# In column SUB2_D replace -9 with 19? Confirm with value counts.\n",
    "df1['SUB2_D'] = df1['SUB2_D'].replace(-9, 19)\n",
    "print(df1['SUB2_D'].value_counts())"
   ]
  },
  {
   "cell_type": "code",
   "execution_count": 127,
   "metadata": {},
   "outputs": [
    {
     "name": "stdout",
     "output_type": "stream",
     "text": [
      "SUB3\n",
      "1     1181959\n",
      "19     208079\n",
      "4       96270\n",
      "2       59889\n",
      "3       57346\n",
      "13      29996\n",
      "10      26240\n",
      "7       24731\n",
      "5       17234\n",
      "11       6402\n",
      "9        3775\n",
      "12       3767\n",
      "16       2193\n",
      "8        1600\n",
      "6        1439\n",
      "18        663\n",
      "17        456\n",
      "15        348\n",
      "14        116\n",
      "Name: count, dtype: int64\n"
     ]
    }
   ],
   "source": [
    "# In column SUB3 replace -9 with 19? Confirm with value counts.\n",
    "df1['SUB3'] = df1['SUB3'].replace(-9, 19)\n",
    "print(df1['SUB3'].value_counts())"
   ]
  },
  {
   "cell_type": "code",
   "execution_count": 128,
   "metadata": {},
   "outputs": [
    {
     "name": "stdout",
     "output_type": "stream",
     "text": [
      "SUB3_D\n",
      "1     1316613\n",
      "4       86433\n",
      "0       82543\n",
      "2       55708\n",
      "3       47780\n",
      "10      29027\n",
      "13      25784\n",
      "7       22480\n",
      "19      22280\n",
      "5       15445\n",
      "11       5947\n",
      "9        3451\n",
      "12       2809\n",
      "16       2326\n",
      "8        1341\n",
      "6        1030\n",
      "18        602\n",
      "17        433\n",
      "15        333\n",
      "14        138\n",
      "Name: count, dtype: int64\n"
     ]
    }
   ],
   "source": [
    "# In column SUB3_D replace -9 with 0? Confirm with value counts.\n",
    "df1['SUB3_D'] = df1['SUB3_D'].replace(-9, 0)\n",
    "print(df1['SUB3_D'].value_counts())"
   ]
  },
  {
   "cell_type": "code",
   "execution_count": 129,
   "metadata": {},
   "outputs": [
    {
     "name": "stdout",
     "output_type": "stream",
     "text": [
      "ROUTE3\n",
      "0    1362519\n",
      "2     154215\n",
      "1     122303\n",
      "3      48044\n",
      "4      31983\n",
      "5       3439\n",
      "Name: count, dtype: int64\n"
     ]
    }
   ],
   "source": [
    "# In column ROUTE3 replace -9 with 0? Confirm with value counts.\n",
    "df1['ROUTE3'] = df1['ROUTE3'].replace(-9, 0)\n",
    "print(df1['ROUTE3'].value_counts())"
   ]
  },
  {
   "cell_type": "code",
   "execution_count": 130,
   "metadata": {},
   "outputs": [
    {
     "name": "stdout",
     "output_type": "stream",
     "text": [
      "DSMCRIT\n",
      "0     410311\n",
      "5     380512\n",
      "4     289535\n",
      "8     143441\n",
      "19    125445\n",
      "7      82105\n",
      "6      56213\n",
      "9      52972\n",
      "2      40101\n",
      "10     39565\n",
      "3      29130\n",
      "11     23297\n",
      "12     17972\n",
      "1      12628\n",
      "13      7786\n",
      "15      5239\n",
      "17      2246\n",
      "14      2181\n",
      "16      1490\n",
      "18       334\n",
      "Name: count, dtype: int64\n"
     ]
    }
   ],
   "source": [
    "# In column DSMCRIT replace -9 with 0? Confirm with value counts.\n",
    "df1['DSMCRIT'] = df1['DSMCRIT'].replace(-9, 0)\n",
    "print(df1['DSMCRIT'].value_counts())"
   ]
  },
  {
   "cell_type": "code",
   "execution_count": 131,
   "metadata": {},
   "outputs": [
    {
     "name": "stdout",
     "output_type": "stream",
     "text": [
      "PSYPROB\n",
      "2    823223\n",
      "1    673905\n",
      "0    225375\n",
      "Name: count, dtype: int64\n"
     ]
    }
   ],
   "source": [
    "# In column PSYPROB replace -9 with 0? Confirm with value counts.\n",
    "df1['PSYPROB'] = df1['PSYPROB'].replace(-9, 0)\n",
    "print(df1['PSYPROB'].value_counts())"
   ]
  },
  {
   "cell_type": "code",
   "execution_count": 132,
   "metadata": {},
   "outputs": [
    {
     "name": "stdout",
     "output_type": "stream",
     "text": [
      "PRIMPAY\n",
      "0    989974\n",
      "4    389616\n",
      "5    162022\n",
      "7     49127\n",
      "1     48470\n",
      "2     44071\n",
      "6     20758\n",
      "3     18465\n",
      "Name: count, dtype: int64\n"
     ]
    }
   ],
   "source": [
    "# In column PRIMPAY replace -9 with 0? Confirm with value counts.\n",
    "df1['PRIMPAY'] = df1['PRIMPAY'].replace(-9, 0)\n",
    "print(df1['PRIMPAY'].value_counts())"
   ]
  },
  {
   "cell_type": "code",
   "execution_count": 133,
   "metadata": {},
   "outputs": [
    {
     "name": "stdout",
     "output_type": "stream",
     "text": [
      "FREQ_ATND_SELF_HELP\n",
      "1    1037604\n",
      "0     327054\n",
      "4     126267\n",
      "2     104522\n",
      "5      65074\n",
      "3      61982\n",
      "Name: count, dtype: int64\n"
     ]
    }
   ],
   "source": [
    "# In column FREQ_ATND_SELF_HELP replace -9 with 0? Confirm with value counts.\n",
    "df1['FREQ_ATND_SELF_HELP'] = df1['FREQ_ATND_SELF_HELP'].replace(-9, 0)\n",
    "print(df1['FREQ_ATND_SELF_HELP'].value_counts())"
   ]
  },
  {
   "cell_type": "code",
   "execution_count": 134,
   "metadata": {},
   "outputs": [
    {
     "name": "stdout",
     "output_type": "stream",
     "text": [
      "FREQ_ATND_SELF_HELP_D\n",
      "1    859331\n",
      "0    376995\n",
      "4    186509\n",
      "2    115895\n",
      "5    107791\n",
      "3     75982\n",
      "Name: count, dtype: int64\n"
     ]
    }
   ],
   "source": [
    "# In column FREQ_ATND_SELF_HELP_D replace -9 with 0? Confirm with value counts.\n",
    "df1['FREQ_ATND_SELF_HELP_D'] = df1['FREQ_ATND_SELF_HELP_D'].replace(-9, 0)\n",
    "print(df1['FREQ_ATND_SELF_HELP_D'].value_counts())"
   ]
  },
  {
   "cell_type": "markdown",
   "metadata": {},
   "source": [
    "#### Columns that need clarification:\n",
    "* ROUTE2: Route of administration (secondary)\n",
    "* IDU: Current IV drug use reported at admission\n",
    "* HLTHINS: Health insurance\n",
    "\n",
    "\n",
    "These are the 'Drug use reported at admission' columns. Not reported = 0, and reported = 1. The percentage for each column is fairly high. I believe that these columns are important for the model.\n",
    "\n",
    "* ALCFLG: Alcohol reported at admission\n",
    "* COKEFLG: Cocaine/crack reported at admission\n",
    "* MARFLG: Marijuana/hashish reported at admission\n",
    "* HERFLG: Heroin reported at admission\n",
    "* METHFLG: Non-rx methadone reported at admission\n",
    "* OPSYNFLG: Other opiates/synthetics reported at admission\n",
    "* PCPFLG: PCP reported at admission\n",
    "* HALLFLG: Hallucinogens reported at admission\n",
    "* MTHAMFLG: Methamphetamine/speed reported at admission\n",
    "* AMPHFLG: Other amphetamines reported at admission\n",
    "* STIMFLG: Other stimulants reported at admission\n",
    "* BENZFLG: Benzodiazepines reported at admission\n",
    "* TRNQFLG: Other tranquilizers reported at admission\n",
    "* BARBFLG: Barbiturates reported at admission\n",
    "* SEDHPFLG: Other sedatives/hypnotics reported at admission\n",
    "* INHFLG: Inhalants reported at admission\n",
    "* OTCFLG: Over-the-counter medication reported at admission\n",
    "* OTHERFLG: Other drug reported at admission"
   ]
  },
  {
   "cell_type": "markdown",
   "metadata": {},
   "source": [
    "#### Data Preprocessing"
   ]
  },
  {
   "cell_type": "code",
   "execution_count": 135,
   "metadata": {},
   "outputs": [
    {
     "name": "stdout",
     "output_type": "stream",
     "text": [
      "Correlation of REASON with other variables.\n"
     ]
    },
    {
     "data": {
      "text/plain": [
       "HLTHINS   -0.106469\n",
       "PRIMINC   -0.098816\n",
       "LOS       -0.084553\n",
       "ALCFLG    -0.078218\n",
       "AGE       -0.051736\n",
       "             ...   \n",
       "ARRESTS    0.209631\n",
       "FREQ1_D    0.214312\n",
       "SUB1_D     0.243122\n",
       "REASON     1.000000\n",
       "DISYR           NaN\n",
       "Name: REASON, Length: 76, dtype: float64"
      ]
     },
     "metadata": {},
     "output_type": "display_data"
    }
   ],
   "source": [
    "# What are the correlations of all columns to the target variable 'REASON'?\n",
    "df1_corr = df1.corr()\n",
    "variable = df1_corr['REASON'].sort_values()\n",
    "print('Correlation of REASON with other variables.')\n",
    "display(variable)"
   ]
  },
  {
   "cell_type": "code",
   "execution_count": 136,
   "metadata": {},
   "outputs": [
    {
     "data": {
      "image/png": "[encoded data removed]",
      "text/plain": [
       "<Figure size 2000x1800 with 1 Axes>"
      ]
     },
     "metadata": {},
     "output_type": "display_data"
    }
   ],
   "source": [
    "# Visualize only the positive correlations\n",
    "positive_correlations = variable[variable > 0]\n",
    "plt.figure(figsize=(20,18))\n",
    "positive_correlations.plot(kind='bar', color='blue')\n",
    "plt.title('Visualization of only the positive correlations to the target variable')\n",
    "plt.show()"
   ]
  },
  {
   "cell_type": "code",
   "execution_count": 137,
   "metadata": {},
   "outputs": [
    {
     "data": {
      "text/plain": [
       "0          37\n",
       "1          35\n",
       "2          35\n",
       "3          37\n",
       "4          37\n",
       "           ..\n",
       "1722498    33\n",
       "1722499    13\n",
       "1722500    33\n",
       "1722501    14\n",
       "1722502    13\n",
       "Name: LOS, Length: 1722503, dtype: int64"
      ]
     },
     "metadata": {},
     "output_type": "display_data"
    }
   ],
   "source": [
    "# Display LOS\n",
    "los = df1['LOS']\n",
    "display(los)"
   ]
  },
  {
   "cell_type": "code",
   "execution_count": 145,
   "metadata": {},
   "outputs": [
    {
     "name": "stdout",
     "output_type": "stream",
     "text": [
      "1\n",
      "2\n",
      "3\n",
      "4\n",
      "5\n",
      "6\n",
      "7\n",
      "8\n",
      "None\n"
     ]
    }
   ],
   "source": [
    "# In LOS (Length of Stay) column, replace the values with the following:\n",
    "# if days is between 1 and 30, return 1\n",
    "# if days is between 31 and 45, return 2\n",
    "# if days is between 46 and 60, return 3\n",
    "# if days is between 61 and 90, return 4\n",
    "# if days is between 91 and 120, return 5\n",
    "# if days is between 121 and 180, return 6\n",
    "# if days is between 181 and 365, return 7\n",
    "# if days is greater than 365, return 8\n",
    "# if days is any other value, return None\n",
    "\n",
    "\n",
    "\n",
    "def los_to_category(days):\n",
    "    if 1 <= days <= 30: \n",
    "        return 1    \n",
    "    elif 31 <= days <= 45: \n",
    "        return 2    \n",
    "    elif 46 <= days <= 60: \n",
    "        return 3    \n",
    "    elif 61 <= days <= 90: \n",
    "        return 4    \n",
    "    elif 91 <= days <= 120: \n",
    "        return 5    \n",
    "    elif 121 <= days <= 180: \n",
    "        return 6    \n",
    "    elif 181 <= days <= 365: \n",
    "        return 7    \n",
    "    elif days > 365: \n",
    "        return 8  \n",
    "    else:   \n",
    "        return None  \n",
    "\n",
    "# Test cases\n",
    "print(los_to_category(15))  # Expected output: 1\n",
    "print(los_to_category(35))  # Expected output: 2\n",
    "print(los_to_category(50))  # Expected output: 3\n",
    "print(los_to_category(70))  # Expected output: 4\n",
    "print(los_to_category(100))  # Expected output: 5\n",
    "print(los_to_category(150))  # Expected output: 6\n",
    "print(los_to_category(200))  # Expected output: 7\n",
    "print(los_to_category(400))  # Expected output: 8\n",
    "print(los_to_category(-5))  # Expected output: None"
   ]
  },
  {
   "cell_type": "code",
   "execution_count": 148,
   "metadata": {},
   "outputs": [
    {
     "name": "stdout",
     "output_type": "stream",
     "text": [
      "Missing values in the LOS column: 0\n"
     ]
    }
   ],
   "source": [
    "# Check for missing values in the LOS column\n",
    "missing_values_los = los.isna().sum()\n",
    "print('Missing values in the LOS column:', missing_values_los)"
   ]
  },
  {
   "cell_type": "code",
   "execution_count": 149,
   "metadata": {},
   "outputs": [
    {
     "name": "stdout",
     "output_type": "stream",
     "text": [
      "Missing values in the LOS column: 0\n"
     ]
    }
   ],
   "source": [
    "# Check for -9 in the LOS column\n",
    "missing_values_los = los.isin([-9]).sum()\n",
    "print('Missing values in the LOS column:', missing_values_los)"
   ]
  }
 ],
 "metadata": {
  "kernelspec": {
   "display_name": "dev",
   "language": "python",
   "name": "python3"
  },
  "language_info": {
   "codemirror_mode": {
    "name": "ipython",
    "version": 3
   },
   "file_extension": ".py",
   "mimetype": "text/x-python",
   "name": "python",
   "nbconvert_exporter": "python",
   "pygments_lexer": "ipython3",
   "version": "3.10.13"
  }
 },
 "nbformat": 4,
 "nbformat_minor": 2
}
